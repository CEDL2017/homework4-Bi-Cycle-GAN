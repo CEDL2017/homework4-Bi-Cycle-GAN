{
 "cells": [
  {
   "cell_type": "code",
   "execution_count": 1,
   "metadata": {},
   "outputs": [],
   "source": [
    "%matplotlib inline\n",
    "import matplotlib.pyplot as plt\n",
    "from tensorflow.examples.tutorials.mnist import input_data\n",
    "import numpy as np\n",
    "import skimage.color, skimage.io\n",
    "from glob import glob\n",
    "from PIL import Image\n",
    "import os"
   ]
  },
  {
   "cell_type": "code",
   "execution_count": 2,
   "metadata": {},
   "outputs": [
    {
     "name": "stdout",
     "output_type": "stream",
     "text": [
      "num train: 1067\n",
      "num test: 120\n"
     ]
    }
   ],
   "source": [
    "# convert rgb to gray\n",
    "path_train = glob('./datasets/{}/*.*'.format('horse2zebra/trainA'))\n",
    "path_test = glob('./datasets/{}/*.*'.format('horse2zebra/testA'))\n",
    "print(\"num train:\", len(path_train))\n",
    "print(\"num test:\", len(path_test))"
   ]
  },
  {
   "cell_type": "code",
   "execution_count": 3,
   "metadata": {},
   "outputs": [],
   "source": [
    "p1 = len(path_train)//3\n",
    "p2 = p1*2"
   ]
  },
  {
   "cell_type": "code",
   "execution_count": 4,
   "metadata": {},
   "outputs": [
    {
     "name": "stderr",
     "output_type": "stream",
     "text": [
      "/home/weidagogo/anaconda3/lib/python3.5/site-packages/skimage/util/dtype.py:122: UserWarning: Possible precision loss when converting from float64 to uint8\n",
      "  .format(dtypeobj_in, dtypeobj_out))\n"
     ]
    }
   ],
   "source": [
    "# part 1, copy horse and convert to gray and put in horse2gray/trainB\n",
    "if not os.path.exists('./datasets/horse2gray'):\n",
    "    os.makedirs('./datasets/horse2gray')\n",
    "if not os.path.exists('./datasets/horse2gray/trainB'):\n",
    "    os.makedirs('./datasets/horse2gray/trainB')\n",
    "if not os.path.exists('./datasets/horse2gray/testB'):\n",
    "    os.makedirs('./datasets/horse2gray/testB')\n",
    "for path in path_train[:p1]:\n",
    "    data = skimage.io.imread(path)\n",
    "    data = skimage.color.rgb2gray(data)\n",
    "    path = path.replace(\"zebra\", \"gray\")\n",
    "    path = path.replace(\"trainA\", \"trainB\")\n",
    "    skimage.io.imsave(path, data)\n",
    "    \n",
    "for path in path_test:\n",
    "    data = skimage.io.imread(path)\n",
    "    data = skimage.color.rgb2gray(data)\n",
    "    path = path.replace(\"zebra\", \"gray\")\n",
    "    path = path.replace(\"testA\", \"testB\")\n",
    "    skimage.io.imsave(path, data)"
   ]
  },
  {
   "cell_type": "code",
   "execution_count": 5,
   "metadata": {},
   "outputs": [],
   "source": [
    "# part2, copy horse and put in horse2gray/trainA\n",
    "if not os.path.exists('./datasets/horse2gray'):\n",
    "    os.makedirs('./datasets/horse2gray')\n",
    "if not os.path.exists('./datasets/horse2gray/trainA'):\n",
    "    os.makedirs('./datasets/horse2gray/trainA')\n",
    "if not os.path.exists('./datasets/horse2gray/testA'):\n",
    "    os.makedirs('./datasets/horse2gray/testA')\n",
    "for path in path_train[p1:p2]:\n",
    "    data = skimage.io.imread(path)\n",
    "    path = path.replace(\"zebra\", \"gray\")\n",
    "    skimage.io.imsave(path, data)\n",
    "    \n",
    "for path in path_test:\n",
    "    data = skimage.io.imread(path)\n",
    "    path = path.replace(\"zebra\", \"gray\")\n",
    "    skimage.io.imsave(path, data)"
   ]
  },
  {
   "cell_type": "code",
   "execution_count": 7,
   "metadata": {},
   "outputs": [],
   "source": [
    "# part3, delete horse in horse2zebra/trainA\n",
    "\n",
    "for path in path_train[:p2]:\n",
    "    if os.path.exists(path):\n",
    "        os.remove(path)\n",
    "    "
   ]
  },
  {
   "cell_type": "code",
   "execution_count": null,
   "metadata": {},
   "outputs": [],
   "source": []
  }
 ],
 "metadata": {
  "kernelspec": {
   "display_name": "Python 3",
   "language": "python",
   "name": "python3"
  },
  "language_info": {
   "codemirror_mode": {
    "name": "ipython",
    "version": 3
   },
   "file_extension": ".py",
   "mimetype": "text/x-python",
   "name": "python",
   "nbconvert_exporter": "python",
   "pygments_lexer": "ipython3",
   "version": "3.5.4"
  }
 },
 "nbformat": 4,
 "nbformat_minor": 2
}
